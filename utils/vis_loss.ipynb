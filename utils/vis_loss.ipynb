{
 "cells": [
  {
   "cell_type": "code",
   "execution_count": 11,
   "metadata": {},
   "outputs": [],
   "source": [
    "import matplotlib.pyplot as plt\n",
    "import pandas as pd\n",
    "import os\n",
    "def _func(data: pd.DataFrame):\n",
    "    columns = data.columns\n",
    "    x_name = columns[0]\n",
    "    x = data[x_name].values\n",
    "    y_name = columns[1]\n",
    "    y = data[y_name].values\n",
    "    return x_name, y_name, x, y\n",
    "def vis_finetune_valloss(path):\n",
    "    name2 = 'val_result_epoch.csv'\n",
    "    file2 = os.path.join(path, name2)\n",
    "    data2 = pd.read_csv(file2)\n",
    "    x_name, y_name, x_, y_ = _func(data2)\n",
    "    plt.plot(x_, y_, 'r-', alpha=0.5, linewidth=1, label='val_loss')\n",
    "    plt.xlabel(x_name) \n",
    "    plt.ylabel(y_name)\n",
    "    plt.legend()\n",
    "    plt.savefig(f\"{path}/val_loss.png\")\n",
    "    plt.clf()\n",
    "    # plt.show()\n",
    "\n",
    "\n",
    "def vis_finetune_loss(path):\n",
    "    name1 = 'train_result_epoch.csv'\n",
    "    name2 = 'val_result_epoch.csv'\n",
    "    file1 = os.path.join(path, name1)\n",
    "    file2 = os.path.join(path, name2)\n",
    "    data1 = pd.read_csv(file1)\n",
    "    data2 = pd.read_csv(file2)\n",
    "    x_name, y_name, x, y = _func(data1)\n",
    "    x_name, y_name, x_, y_ = _func(data2)\n",
    "    plt.plot(x, y, 'b-', alpha=0.5, linewidth=1, label='train_loss')\n",
    "    plt.plot(x_, y_, 'r-', alpha=0.5, linewidth=1, label='val_loss')\n",
    "    plt.xlabel(x_name) \n",
    "    plt.ylabel(y_name)\n",
    "    plt.legend()\n",
    "    # plt.ylim(0,1)\n",
    "    plt.savefig(f\"{path}/loss.png\")\n",
    "    plt.clf()\n",
    "    # plt.show()\n",
    "\n",
    "def vis_training_loss(path):\n",
    "    name = 'result_iter.csv'\n",
    "    file = os.path.join(path, name)\n",
    "    data = pd.read_csv(file)\n",
    "    x_name, y_name, x, y = _func(data)\n",
    "    plt.plot(x, y, 'b-', alpha=0.5, linewidth=1, label='train_loss')\n",
    "    plt.xlabel(x_name) \n",
    "    plt.ylabel(y_name)\n",
    "    plt.legend()\n",
    "    plt.savefig(f\"{path}/loss.png\")\n",
    "    plt.show()"
   ]
  },
  {
   "cell_type": "code",
   "execution_count": 14,
   "metadata": {},
   "outputs": [],
   "source": [
    "def vis_F1_ratio(path):\n",
    "    info = pd.read_csv(f\"{path}/info.csv\")\n",
    "    ratio = info[\"ratio\"]\n",
    "    f1 = info[\"f_score\"]\n",
    "    pre = info[\"precision\"]\n",
    "    rec = info[\"recall\"]\n",
    "    plt.plot(ratio, f1, \"r\", alpha=0.5, linewidth=1, label=\"F1\")\n",
    "    plt.plot(ratio, pre, \"g\", alpha=0.5, linewidth=1, label=\"precision\")\n",
    "    plt.plot(ratio, rec, \"b\", alpha=0.5, linewidth=1, label=\"recall\")\n",
    "    plt.xlabel(\"ratio(%)\")\n",
    "    plt.ylabel(\"value\")\n",
    "    best_result = pd.read_csv(f\"{path}/result.csv\")\n",
    "    bestratio = best_result[\"ratio\"][0]\n",
    "    bestf1 = best_result[\"f_score\"][0]\n",
    "    bestpre = best_result[\"precision\"][0]\n",
    "    bestrec = best_result[\"recall\"][0]\n",
    "    plt.axvline(\n",
    "        x=bestratio,\n",
    "        c=\"r\",\n",
    "        linestyle=\"--\",\n",
    "        label=f\"best ratio: {bestratio}\",\n",
    "        linewidth=1,\n",
    "    )\n",
    "    # plt.scatter(x=bestratio, y=bestf1, marker='+', s=10)\n",
    "    # plt.scatter(x=bestratio, y=bestpre, marker='+', s=10)\n",
    "    # plt.scatter(x=bestratio, y=bestrec, marker='+', s=10)\n",
    "    plt.text(\n",
    "        x=bestratio + 0.1,\n",
    "        y=bestf1 - 0.1,\n",
    "        s=f\"F_score:{bestf1:.4f}\\nPrecision:{bestpre:.4f}\\nRecall:{bestrec:.4f}\",\n",
    "    )\n",
    "    # plt.text(x=bestratio+0.1, y=bestpre, s=f'Prec:{bestpre:.4f}')\n",
    "    # plt.text(x=bestratio+0.1, y=bestrec, s=f'Rec :{bestrec:.4f}')\n",
    "    plt.ylim(0, 1.1)\n",
    "    plt.legend(loc=\"upper right\")\n",
    "    plt.savefig(f\"{path}/info.png\")\n",
    "    plt.clf()\n",
    "    # plt.show()"
   ]
  },
  {
   "cell_type": "code",
   "execution_count": 7,
   "metadata": {},
   "outputs": [],
   "source": [
    "import os\n",
    "def get_paths(root):\n",
    "    paths = []\n",
    "    dirs = os.listdir(root)\n",
    "    for dir in dirs:\n",
    "        path = os.path.join(root, dir)\n",
    "        cur_path = path\n",
    "        subdirs = os.listdir(cur_path)\n",
    "        for subdir in subdirs:\n",
    "            path = os.path.join(path, subdir)\n",
    "            paths.append(path)\n",
    "            path = cur_path\n",
    "        \n",
    "    return paths"
   ]
  },
  {
   "cell_type": "code",
   "execution_count": 15,
   "metadata": {},
   "outputs": [
    {
     "data": {
      "text/plain": [
       "<Figure size 640x480 with 0 Axes>"
      ]
     },
     "metadata": {},
     "output_type": "display_data"
    }
   ],
   "source": [
    "paths = get_paths('/workspace/MaskModel/detect')\n",
    "for path in paths:\n",
    "    vis_F1_ratio(path)"
   ]
  },
  {
   "cell_type": "code",
   "execution_count": 9,
   "metadata": {},
   "outputs": [
    {
     "data": {
      "text/plain": [
       "<Figure size 640x480 with 0 Axes>"
      ]
     },
     "metadata": {},
     "output_type": "display_data"
    }
   ],
   "source": [
    "paths = get_paths('/workspace/MaskModel/finetune')\n",
    "for path in paths:\n",
    "    vis_finetune_valloss(path)\n",
    "    vis_finetune_loss(path)"
   ]
  },
  {
   "cell_type": "code",
   "execution_count": null,
   "metadata": {},
   "outputs": [],
   "source": []
  }
 ],
 "metadata": {
  "kernelspec": {
   "display_name": "base",
   "language": "python",
   "name": "python3"
  },
  "language_info": {
   "codemirror_mode": {
    "name": "ipython",
    "version": 3
   },
   "file_extension": ".py",
   "mimetype": "text/x-python",
   "name": "python",
   "nbconvert_exporter": "python",
   "pygments_lexer": "ipython3",
   "version": "3.7.16"
  }
 },
 "nbformat": 4,
 "nbformat_minor": 2
}
